{
 "cells": [
  {
   "cell_type": "code",
   "execution_count": 1,
   "metadata": {},
   "outputs": [
    {
     "name": "stdout",
     "output_type": "stream",
     "text": [
      "14992\n"
     ]
    }
   ],
   "source": [
    "\n",
    "import sys\n",
    "import argparse\n",
    "from msa2vcf.msa2vcf import go\n",
    "from msa2vcf.object_classes import Args\n",
    "from msa2vcf.msa2vcf import MsaParser\n",
    "msa=\"../data/Alignment_nt_All.fasta\" \n",
    "odir=\"work\" \n",
    "refname= \"SARS_CoV_2_Wuhan_Hu_1_MN908947\"\n",
    "keep_n = False\n",
    "\n",
    "args= Args(\n",
    "    msa=msa,\n",
    "    odir=odir,\n",
    "    refname=refname,\n",
    "    keep_n=keep_n\n",
    ")\n",
    "\n",
    "msa_parser = MsaParser(args)\n",
    "refseq = msa_parser.get_ref_seq()\n",
    "\n",
    "if not refseq:\n",
    "    print(args.refname + \" not found\\n\")\n",
    "    sys.exit(1)\n",
    "\n",
    "msa_parser.parse_msa()\n",
    "print(len(msa_parser.variants))\n"
   ]
  }
 ],
 "metadata": {
  "kernelspec": {
   "display_name": "Python 3",
   "language": "python",
   "name": "python3"
  },
  "language_info": {
   "codemirror_mode": {
    "name": "ipython",
    "version": 3
   },
   "file_extension": ".py",
   "mimetype": "text/x-python",
   "name": "python",
   "nbconvert_exporter": "python",
   "pygments_lexer": "ipython3",
   "version": "3.10.12"
  }
 },
 "nbformat": 4,
 "nbformat_minor": 2
}
